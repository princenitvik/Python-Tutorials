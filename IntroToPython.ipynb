{
  "nbformat": 4,
  "nbformat_minor": 0,
  "metadata": {
    "colab": {
      "name": "IntroToPython.ipynb",
      "version": "0.3.2",
      "provenance": [],
      "collapsed_sections": [],
      "include_colab_link": true
    },
    "kernelspec": {
      "display_name": "Python 3",
      "language": "python",
      "name": "python3"
    }
  },
  "cells": [
    {
      "cell_type": "markdown",
      "metadata": {
        "id": "view-in-github",
        "colab_type": "text"
      },
      "source": [
        "<a href=\"https://colab.research.google.com/github/princenitvik/Python-Tutorials/blob/master/IntroToPython.ipynb\" target=\"_parent\"><img src=\"https://colab.research.google.com/assets/colab-badge.svg\" alt=\"Open In Colab\"/></a>"
      ]
    },
    {
      "metadata": {
        "internals": {
          "slide_type": "subslide"
        },
        "id": "tdVo2xmTomw5",
        "colab_type": "text"
      },
      "cell_type": "markdown",
      "source": [
        "This is an iPython Notebook!\n",
        "============================"
      ]
    },
    {
      "metadata": {
        "internals": {
          "frag_number": 1,
          "slide_helper": "subslide_end"
        },
        "slide_helper": "slide_end",
        "id": "QE0tbiMnomw-",
        "colab_type": "code",
        "colab": {}
      },
      "cell_type": "code",
      "source": [
        "# you can mix text and code in one place and\n",
        "# run code from a Web browser"
      ],
      "execution_count": 0,
      "outputs": []
    },
    {
      "metadata": {
        "internals": {
          "frag_helper": "fragment_end",
          "frag_number": 1,
          "slide_helper": "subslide_end",
          "slide_type": "subslide"
        },
        "slide_helper": "slide_end",
        "id": "Cm-yiirgomxJ",
        "colab_type": "text"
      },
      "cell_type": "markdown",
      "source": [
        "Basics\n",
        "------"
      ]
    },
    {
      "metadata": {
        "internals": {
          "frag_helper": "fragment_end",
          "frag_number": 1,
          "slide_type": "subslide"
        },
        "id": "YgSB7T8oomxL",
        "colab_type": "text"
      },
      "cell_type": "markdown",
      "source": [
        "All you need to know about Python is here:\n",
        "\n",
        "You don't need to specify type of a variable"
      ]
    },
    {
      "metadata": {
        "internals": {
          "frag_helper": "fragment_end",
          "frag_number": 4
        },
        "id": "FJKmiadvomxO",
        "colab_type": "code",
        "colab": {}
      },
      "cell_type": "code",
      "source": [
        "a = 10"
      ],
      "execution_count": 0,
      "outputs": []
    },
    {
      "metadata": {
        "internals": {
          "frag_helper": "fragment_end",
          "frag_number": 5,
          "slide_helper": "subslide_end"
        },
        "slide_helper": "slide_end",
        "id": "nTxTlV7TomxW",
        "colab_type": "code",
        "outputId": "a6ddebd2-7890-436c-eb5f-9d60e4778cfa",
        "colab": {}
      },
      "cell_type": "code",
      "source": [
        "a"
      ],
      "execution_count": 0,
      "outputs": [
        {
          "output_type": "execute_result",
          "data": {
            "text/plain": [
              "10"
            ]
          },
          "metadata": {
            "tags": []
          },
          "execution_count": 3
        }
      ]
    },
    {
      "metadata": {
        "internals": {
          "frag_helper": "fragment_end",
          "frag_number": 5,
          "slide_type": "subslide"
        },
        "id": "o0a1ukauomxk",
        "colab_type": "text"
      },
      "cell_type": "markdown",
      "source": [
        "You can assign several variables at once:"
      ]
    },
    {
      "metadata": {
        "internals": {
          "frag_helper": "fragment_end",
          "frag_number": 7
        },
        "id": "iP-aRjfYomxm",
        "colab_type": "code",
        "outputId": "01bc147d-2c35-460d-e17c-5d3526f6bdd4",
        "colab": {}
      },
      "cell_type": "code",
      "source": [
        "a, b = 1, 2\n",
        "a, b"
      ],
      "execution_count": 0,
      "outputs": [
        {
          "output_type": "execute_result",
          "data": {
            "text/plain": [
              "(1, 2)"
            ]
          },
          "metadata": {
            "tags": []
          },
          "execution_count": 4
        }
      ]
    },
    {
      "metadata": {
        "internals": {
          "frag_helper": "fragment_end",
          "frag_number": 8,
          "slide_helper": "subslide_end"
        },
        "slide_helper": "slide_end",
        "id": "TPLO33CSomx2",
        "colab_type": "code",
        "outputId": "5dcd4bab-4e89-46ab-dd96-4325ec408a13",
        "colab": {}
      },
      "cell_type": "code",
      "source": [
        "b, a = a, b\n",
        "a, b"
      ],
      "execution_count": 0,
      "outputs": [
        {
          "output_type": "execute_result",
          "data": {
            "text/plain": [
              "(2, 1)"
            ]
          },
          "metadata": {
            "tags": []
          },
          "execution_count": 5
        }
      ]
    },
    {
      "metadata": {
        "internals": {
          "frag_helper": "fragment_end",
          "frag_number": 8,
          "slide_type": "subslide"
        },
        "id": "0brGtal6omyL",
        "colab_type": "text"
      },
      "cell_type": "markdown",
      "source": [
        "There is no \"begin-end\"! You use indentation to specify blocks. Here is simple IF statement:"
      ]
    },
    {
      "metadata": {
        "internals": {
          "frag_helper": "fragment_end",
          "frag_number": 10,
          "slide_helper": "subslide_end"
        },
        "slide_helper": "slide_end",
        "id": "8lJL3J3zomyR",
        "colab_type": "code",
        "outputId": "50d14dfe-bc67-4d28-ad39-5562233288ae",
        "colab": {}
      },
      "cell_type": "code",
      "source": [
        "if a > b:\n",
        "    print(\"A is greater than B\")\n",
        "else:\n",
        "    print(\"B is greater than A\")"
      ],
      "execution_count": 0,
      "outputs": [
        {
          "output_type": "stream",
          "text": [
            "A is greater than B\n"
          ],
          "name": "stdout"
        }
      ]
    },
    {
      "metadata": {
        "internals": {
          "frag_helper": "fragment_end",
          "frag_number": 10,
          "slide_helper": "subslide_end",
          "slide_type": "subslide"
        },
        "slide_helper": "slide_end",
        "id": "3Q8LFa5Domys",
        "colab_type": "text"
      },
      "cell_type": "markdown",
      "source": [
        "Types\n",
        "-----"
      ]
    },
    {
      "metadata": {
        "internals": {
          "frag_helper": "fragment_end",
          "frag_number": 10,
          "slide_helper": "subslide_end",
          "slide_type": "subslide"
        },
        "slide_helper": "slide_end",
        "id": "2_RG4K_Nomyv",
        "colab_type": "code",
        "outputId": "8f3ebd5c-38cb-4b5d-99f8-611f1ed3398e",
        "colab": {}
      },
      "cell_type": "code",
      "source": [
        "# Integer\n",
        "a = 1\n",
        "print(a)\n",
        "\n",
        "# Float\n",
        "b = 1.0\n",
        "print(b)\n",
        "\n",
        "# String\n",
        "c = \"Hello world\"\n",
        "print(c)\n",
        "\n",
        "# Unicode\n",
        "d = u\"Привет, мир!\"\n",
        "print(d)\n",
        "\n",
        "# List (array)\n",
        "e = [1, 2, 3]\n",
        "print(e[2]) # 3\n",
        "\n",
        "# Tuple (constant array)\n",
        "f = (1, 2, 3)\n",
        "print(f[0]) # 1\n",
        "\n",
        "# Set\n",
        "g = {1, 1, 1, 2}\n",
        "print(g)\n",
        "\n",
        "# Dictionary (hash table, hash map)\n",
        "g = {1: 'One', 2: 'Two', 3: 'Three'}\n",
        "print(g[1]) # 'One'"
      ],
      "execution_count": 0,
      "outputs": [
        {
          "output_type": "stream",
          "text": [
            "1\n",
            "1.0\n",
            "Hello world\n",
            "Привет, мир!\n",
            "3\n",
            "1\n",
            "{1, 2}\n",
            "One\n"
          ],
          "name": "stdout"
        }
      ]
    },
    {
      "metadata": {
        "internals": {
          "frag_helper": "fragment_end",
          "frag_number": 10,
          "slide_helper": "subslide_end",
          "slide_type": "subslide"
        },
        "slide_helper": "slide_end",
        "id": "KNLjq9MOomy5",
        "colab_type": "text"
      },
      "cell_type": "markdown",
      "source": [
        "Loops\n",
        "-----"
      ]
    },
    {
      "metadata": {
        "internals": {
          "frag_helper": "fragment_end",
          "frag_number": 10,
          "slide_type": "subslide"
        },
        "id": "X8AQw7lLomy-",
        "colab_type": "text"
      },
      "cell_type": "markdown",
      "source": [
        "### for"
      ]
    },
    {
      "metadata": {
        "internals": {
          "frag_helper": "fragment_end",
          "frag_number": 15,
          "slide_helper": "subslide_end"
        },
        "slide_helper": "slide_end",
        "id": "fKA0bHG4omzA",
        "colab_type": "code",
        "outputId": "c9a310c2-cf56-446c-e9bd-778e0c5d0eb2",
        "colab": {}
      },
      "cell_type": "code",
      "source": [
        "for i in range(10):\n",
        "    print(i)"
      ],
      "execution_count": 0,
      "outputs": [
        {
          "output_type": "stream",
          "text": [
            "0\n",
            "1\n",
            "2\n",
            "3\n",
            "4\n",
            "5\n",
            "6\n",
            "7\n",
            "8\n",
            "9\n"
          ],
          "name": "stdout"
        }
      ]
    },
    {
      "metadata": {
        "internals": {
          "frag_helper": "fragment_end",
          "frag_number": 15,
          "slide_type": "subslide"
        },
        "id": "bOecgbOxomzM",
        "colab_type": "text"
      },
      "cell_type": "markdown",
      "source": [
        "### while"
      ]
    },
    {
      "metadata": {
        "internals": {
          "frag_helper": "fragment_end",
          "frag_number": 17,
          "slide_helper": "subslide_end"
        },
        "slide_helper": "slide_end",
        "id": "6AAvwSwdomzP",
        "colab_type": "code",
        "outputId": "da0df4d4-a480-4758-9173-429667fc53e9",
        "colab": {}
      },
      "cell_type": "code",
      "source": [
        "i = 0\n",
        "while i < 10:\n",
        "    print(i)\n",
        "    i += 1"
      ],
      "execution_count": 0,
      "outputs": [
        {
          "output_type": "stream",
          "text": [
            "0\n",
            "1\n",
            "2\n",
            "3\n",
            "4\n",
            "5\n",
            "6\n",
            "7\n",
            "8\n",
            "9\n"
          ],
          "name": "stdout"
        }
      ]
    },
    {
      "metadata": {
        "internals": {
          "frag_helper": "fragment_end",
          "frag_number": 17,
          "slide_type": "subslide"
        },
        "id": "-k3zgALvomzW",
        "colab_type": "text"
      },
      "cell_type": "markdown",
      "source": [
        "### Enumerate"
      ]
    },
    {
      "metadata": {
        "internals": {
          "frag_helper": "fragment_end",
          "frag_number": 19,
          "slide_helper": "subslide_end"
        },
        "slide_helper": "subslide_end",
        "id": "POVkNzhBomzZ",
        "colab_type": "code",
        "outputId": "f447675c-fdfb-4b9f-8721-102b2586dabf",
        "colab": {}
      },
      "cell_type": "code",
      "source": [
        "items = ['apple', 'banana', 'stawberry', 'watermelon']\n",
        "for item in items:\n",
        "    print(item)"
      ],
      "execution_count": 0,
      "outputs": [
        {
          "output_type": "stream",
          "text": [
            "apple\n",
            "banana\n",
            "stawberry\n",
            "watermelon\n"
          ],
          "name": "stdout"
        }
      ]
    },
    {
      "metadata": {
        "internals": {
          "frag_helper": "fragment_end",
          "frag_number": 19,
          "slide_helper": "subslide_end",
          "slide_type": "subslide"
        },
        "slide_helper": "slide_end",
        "id": "THUZy0rNomzh",
        "colab_type": "code",
        "outputId": "e14bb5b1-ccb3-4088-f109-041494e6dacf",
        "colab": {}
      },
      "cell_type": "code",
      "source": [
        "for i, item in enumerate(items):\n",
        "    print(i, item)"
      ],
      "execution_count": 0,
      "outputs": [
        {
          "output_type": "stream",
          "text": [
            "0 apple\n",
            "1 banana\n",
            "2 stawberry\n",
            "3 watermelon\n"
          ],
          "name": "stdout"
        }
      ]
    },
    {
      "metadata": {
        "internals": {
          "frag_helper": "fragment_end",
          "frag_number": 19,
          "slide_helper": "subslide_end",
          "slide_type": "subslide"
        },
        "slide_helper": "slide_end",
        "id": "yWY6SF62omzn",
        "colab_type": "text"
      },
      "cell_type": "markdown",
      "source": [
        "Python code style\n",
        "=================\n",
        "\n",
        "There is PEP 8 (Python Enhancement Proposal), which contains all wise ideas about Python code style. Let's look at some of them:"
      ]
    },
    {
      "metadata": {
        "internals": {
          "frag_helper": "fragment_end",
          "frag_number": 19,
          "slide_type": "subslide"
        },
        "id": "Guh0JE3Nomzo",
        "colab_type": "text"
      },
      "cell_type": "markdown",
      "source": [
        "Naming\n",
        "------"
      ]
    },
    {
      "metadata": {
        "internals": {
          "frag_helper": "fragment_end",
          "frag_number": 23,
          "slide_helper": "subslide_end"
        },
        "slide_helper": "slide_end",
        "id": "De9gzKYJomzq",
        "colab_type": "code",
        "colab": {}
      },
      "cell_type": "code",
      "source": [
        "# Variable name\n",
        "my_variable = 1\n",
        "\n",
        "# Class method and function names\n",
        "def my_function():\n",
        "    pass\n",
        "\n",
        "# Constants\n",
        "MY_CONSTANT = 1\n",
        "\n",
        "\n",
        "# Class name\n",
        "class MyClass(object):\n",
        "    # 'private' variable - use underscore before a name\n",
        "    _my_variable = 1\n",
        "\n",
        "    # 'protected' variable - use two underscores before a name\n",
        "    __my_variable = 1\n",
        "\n",
        "    # magic methods\n",
        "    def __init__(self):\n",
        "        self._another_my_variable = 1"
      ],
      "execution_count": 0,
      "outputs": []
    },
    {
      "metadata": {
        "internals": {
          "frag_helper": "fragment_end",
          "frag_number": 23,
          "slide_helper": "subslide_end",
          "slide_type": "subslide"
        },
        "slide_helper": "subslide_end",
        "id": "5dR8L_Jeomzt",
        "colab_type": "text"
      },
      "cell_type": "markdown",
      "source": [
        "String Quotes\n",
        "-------------\n",
        "\n",
        "PEP 8 quote:\n",
        "> In Python, single-quoted strings and double-quoted strings are the same. PEP 8 does not make a recommendation for this. Pick a rule and stick to it. When a string contains single or double quote characters, however, use the other one to avoid backslashes in the string. It improves readability.\n",
        "\n",
        "> For triple-quoted strings, always use double quote characters to be consistent with the docstring convention in PEP 257.\n",
        "\n",
        "My rule for single-quoted and double-quoted strings is:\n",
        "1. Use single-quoted for keywords;\n",
        "2. Use double-quoted for user text;\n",
        "3. Use tripple-double-quoted for all multiline strings and docstrings."
      ]
    },
    {
      "metadata": {
        "internals": {
          "frag_helper": "fragment_end",
          "frag_number": 23,
          "slide_helper": "subslide_end",
          "slide_type": "subslide"
        },
        "slide_helper": "slide_end",
        "id": "hCilwtdYomzu",
        "colab_type": "code",
        "outputId": "2e87d9f9-38f1-49f6-e37c-1b139b7d2b1b",
        "colab": {}
      },
      "cell_type": "code",
      "source": [
        "'string'\n",
        "\n",
        "\"another string\"\n",
        "\n",
        "\"\"\"Multiline\n",
        "string\"\"\"\n",
        "\n",
        "'''\n",
        "Another\n",
        "multiline\n",
        "string\n",
        "'''"
      ],
      "execution_count": 0,
      "outputs": [
        {
          "output_type": "execute_result",
          "data": {
            "text/plain": [
              "'\\nAnother\\nmultiline\\nstring\\n'"
            ]
          },
          "metadata": {
            "tags": []
          },
          "execution_count": 13
        }
      ]
    },
    {
      "metadata": {
        "internals": {
          "frag_helper": "fragment_end",
          "frag_number": 23,
          "slide_helper": "subslide_end",
          "slide_type": "subslide"
        },
        "slide_helper": "subslide_end",
        "id": "XCe4CU17omzw",
        "colab_type": "text"
      },
      "cell_type": "markdown",
      "source": [
        "Some tricks\n",
        "-------------"
      ]
    },
    {
      "metadata": {
        "internals": {
          "frag_helper": "fragment_end",
          "frag_number": 23,
          "slide_type": "subslide"
        },
        "id": "_0RQ0hjvomzx",
        "colab_type": "text"
      },
      "cell_type": "markdown",
      "source": [
        "Sum all elements in an array is straightforward:"
      ]
    },
    {
      "metadata": {
        "internals": {
          "frag_helper": "fragment_end",
          "frag_number": 29,
          "slide_helper": "subslide_end"
        },
        "slide_helper": "subslide_end",
        "id": "y5kq-4X2omzy",
        "colab_type": "code",
        "outputId": "901c3429-d1cf-496f-acde-98aef77fa278",
        "colab": {}
      },
      "cell_type": "code",
      "source": [
        "sum([1,2,3,4,5])"
      ],
      "execution_count": 0,
      "outputs": [
        {
          "output_type": "execute_result",
          "data": {
            "text/plain": [
              "15"
            ]
          },
          "metadata": {
            "tags": []
          },
          "execution_count": 14
        }
      ]
    },
    {
      "metadata": {
        "internals": {
          "frag_helper": "fragment_end",
          "frag_number": 29,
          "slide_type": "subslide"
        },
        "id": "l-ORPRviomz2",
        "colab_type": "text"
      },
      "cell_type": "markdown",
      "source": [
        "However, there is no built-in function for multiplication:"
      ]
    },
    {
      "metadata": {
        "internals": {
          "frag_helper": "fragment_end",
          "frag_number": 31,
          "slide_helper": "subslide_end"
        },
        "slide_helper": "subslide_end",
        "id": "dspN4Sb9omz3",
        "colab_type": "code",
        "outputId": "1d751464-1292-4c40-8949-afaaecc81766",
        "colab": {}
      },
      "cell_type": "code",
      "source": [
        "mult([1,2,3,4,5])"
      ],
      "execution_count": 0,
      "outputs": [
        {
          "output_type": "error",
          "ename": "NameError",
          "evalue": "name 'mult' is not defined",
          "traceback": [
            "\u001b[0;31m---------------------------------------------------------------------------\u001b[0m",
            "\u001b[0;31mNameError\u001b[0m                                 Traceback (most recent call last)",
            "\u001b[0;32m<ipython-input-15-8b055da1542b>\u001b[0m in \u001b[0;36m<module>\u001b[0;34m()\u001b[0m\n\u001b[0;32m----> 1\u001b[0;31m \u001b[0mmult\u001b[0m\u001b[0;34m(\u001b[0m\u001b[0;34m[\u001b[0m\u001b[0;36m1\u001b[0m\u001b[0;34m,\u001b[0m\u001b[0;36m2\u001b[0m\u001b[0;34m,\u001b[0m\u001b[0;36m3\u001b[0m\u001b[0;34m,\u001b[0m\u001b[0;36m4\u001b[0m\u001b[0;34m,\u001b[0m\u001b[0;36m5\u001b[0m\u001b[0;34m]\u001b[0m\u001b[0;34m)\u001b[0m\u001b[0;34m\u001b[0m\u001b[0m\n\u001b[0m",
            "\u001b[0;31mNameError\u001b[0m: name 'mult' is not defined"
          ]
        }
      ]
    },
    {
      "metadata": {
        "internals": {
          "frag_helper": "fragment_end",
          "frag_number": 31,
          "slide_type": "subslide"
        },
        "id": "8d58h98Vomz7",
        "colab_type": "text"
      },
      "cell_type": "markdown",
      "source": [
        ", so we have to write our solution. Let's start with straightforward one:"
      ]
    },
    {
      "metadata": {
        "internals": {
          "frag_helper": "fragment_end",
          "frag_number": 33
        },
        "id": "fUgWfiC6omz7",
        "colab_type": "code",
        "colab": {}
      },
      "cell_type": "code",
      "source": [
        "def mult(array):\n",
        "    result = 1\n",
        "    for item in array:\n",
        "        result *= item\n",
        "    return result"
      ],
      "execution_count": 0,
      "outputs": []
    },
    {
      "metadata": {
        "internals": {
          "frag_helper": "fragment_end",
          "frag_number": 34,
          "slide_helper": "subslide_end"
        },
        "slide_helper": "subslide_end",
        "id": "LpGYV14Fomz_",
        "colab_type": "code",
        "outputId": "80a67eac-0acf-4060-f4b5-1e3a0ebf86b6",
        "colab": {}
      },
      "cell_type": "code",
      "source": [
        "mult([1,2,3,4,5])"
      ],
      "execution_count": 0,
      "outputs": [
        {
          "output_type": "execute_result",
          "data": {
            "text/plain": [
              "120"
            ]
          },
          "metadata": {
            "tags": []
          },
          "execution_count": 17
        }
      ]
    },
    {
      "metadata": {
        "internals": {
          "frag_helper": "fragment_end",
          "frag_number": 34,
          "slide_type": "subslide"
        },
        "id": "dhvHdPBLom0B",
        "colab_type": "text"
      },
      "cell_type": "markdown",
      "source": [
        "There is another way to implement it. It is to write it in a functional-programming style:"
      ]
    },
    {
      "metadata": {
        "internals": {
          "frag_helper": "fragment_end",
          "frag_number": 36
        },
        "id": "1dD_-exEom0E",
        "colab_type": "code",
        "colab": {}
      },
      "cell_type": "code",
      "source": [
        "from functools import reduce\n",
        "\n",
        "def mult_functional(array):\n",
        "    return reduce(lambda prev_result, current_item: prev_result * current_item, array, 1)"
      ],
      "execution_count": 0,
      "outputs": []
    },
    {
      "metadata": {
        "internals": {
          "frag_helper": "fragment_end",
          "frag_number": 37,
          "slide_helper": "subslide_end"
        },
        "slide_helper": "subslide_end",
        "id": "8SDAmMPqom0H",
        "colab_type": "code",
        "outputId": "5245ca71-d7cd-4546-bd47-39afe8d07e07",
        "colab": {}
      },
      "cell_type": "code",
      "source": [
        "mult_functional([1,2,3,4,5])"
      ],
      "execution_count": 0,
      "outputs": [
        {
          "output_type": "execute_result",
          "data": {
            "text/plain": [
              "120"
            ]
          },
          "metadata": {
            "tags": []
          },
          "execution_count": 19
        }
      ]
    },
    {
      "metadata": {
        "internals": {
          "frag_helper": "fragment_end",
          "frag_number": 37,
          "slide_helper": "subslide_end",
          "slide_type": "subslide"
        },
        "slide_helper": "slide_end",
        "id": "pPaLsdZ8om0L",
        "colab_type": "code",
        "outputId": "0e822252-5a00-4dd8-8fb7-4eb6e62fd755",
        "colab": {}
      },
      "cell_type": "code",
      "source": [
        "%timeit mult(range(1, 1000))\n",
        "%timeit mult_functional(range(1, 1000))"
      ],
      "execution_count": 0,
      "outputs": [
        {
          "output_type": "stream",
          "text": [
            "1000 loops, best of 3: 499 µs per loop\n",
            "1000 loops, best of 3: 610 µs per loop\n"
          ],
          "name": "stdout"
        }
      ]
    },
    {
      "metadata": {
        "id": "83Y-Sk1com0Q",
        "colab_type": "text"
      },
      "cell_type": "markdown",
      "source": [
        "Python is really good for fast prototyping\n",
        "------------------------------------------\n",
        "\n",
        "Let's look at a simple problem:\n",
        "\n",
        "> 2520 is the smallest number that can be divided by each of the numbers from 1 to 10 without any remainder.\n",
        "\n",
        "> What is the smallest positive number that is evenly divisible by all of the numbers from 1 to 20?"
      ]
    },
    {
      "metadata": {
        "internals": {
          "frag_helper": "fragment_end",
          "frag_number": 37,
          "slide_helper": "subslide_end",
          "slide_type": "subslide"
        },
        "slide_helper": "slide_end",
        "id": "YoBYu-2Vom0R",
        "colab_type": "text"
      },
      "cell_type": "markdown",
      "source": [
        "### Brute force solution"
      ]
    },
    {
      "metadata": {
        "internals": {
          "frag_helper": "fragment_end",
          "frag_number": 37,
          "slide_helper": "subslide_end",
          "slide_type": "subslide"
        },
        "slide_helper": "subslide_end",
        "id": "JMdhCQ_Oom0S",
        "colab_type": "code",
        "colab": {}
      },
      "cell_type": "code",
      "source": [
        "def get_smallest_divisor_in_range(N):\n",
        "    \"\"\"\n",
        "    Brute force all numbers from 2 to 1*2*3*4*5*6*...*N\n",
        "    until we get a number, which divides by all numbers\n",
        "    in a range of [1, N].\n",
        "    \n",
        "    Example:\n",
        "    \n",
        "    >>> get_smallest_devisor_in_range(10)\n",
        "    2520\n",
        "    \"\"\"\n",
        "    range_multiplied = mult(range(2, N+1))\n",
        "    for x in range(2, range_multiplied, 2):\n",
        "        for divisor in range(3, N+1):\n",
        "            if x % divisor:\n",
        "                break\n",
        "        else:\n",
        "            break\n",
        "    return x"
      ],
      "execution_count": 0,
      "outputs": []
    },
    {
      "metadata": {
        "internals": {
          "frag_helper": "fragment_end",
          "frag_number": 37,
          "slide_helper": "subslide_end",
          "slide_type": "subslide"
        },
        "slide_helper": "slide_end",
        "id": "huP2FmvKom0V",
        "colab_type": "code",
        "outputId": "46378e60-20b0-42d5-df05-7a200396aa93",
        "colab": {}
      },
      "cell_type": "code",
      "source": [
        "%time print(get_smallest_divisor_in_range(10))\n",
        "%time print(get_smallest_divisor_in_range(20))"
      ],
      "execution_count": 0,
      "outputs": [
        {
          "output_type": "stream",
          "text": [
            "2520\n",
            "CPU times: user 1.29 ms, sys: 19 µs, total: 1.31 ms\n",
            "Wall time: 1.33 ms\n",
            "232792560\n",
            "CPU times: user 1min 44s, sys: 989 ms, total: 1min 45s\n",
            "Wall time: 1min 53s\n"
          ],
          "name": "stdout"
        }
      ]
    },
    {
      "metadata": {
        "internals": {
          "frag_helper": "fragment_end",
          "frag_number": 37,
          "slide_helper": "subslide_end",
          "slide_type": "subslide"
        },
        "slide_helper": "subslide_end",
        "id": "-uOB5YFfom0X",
        "colab_type": "text"
      },
      "cell_type": "markdown",
      "source": [
        "### Faster solution for the problem\n",
        "\n",
        "It is to count LCM (Least common multiple) of all numbers in a range of [1, N]:\n",
        "\n",
        "$[a,b]=p_1^{\\max(d_1,e_1)}\\cdot\\dots\\cdot p_k^{\\max(d_k,e_k)}.$\n",
        "\n",
        "For example:\n",
        "\n",
        "$8\\; \\, \\; \\,= 2^3 \\cdot 3^0 \\cdot 5^0 \\cdot 7^0 \\,\\!$\n",
        "\n",
        "$9\\; \\, \\; \\,= 2^0 \\cdot 3^2 \\cdot 5^0 \\cdot 7^0 \\,\\!$\n",
        "\n",
        "$21\\; \\,= 2^0 \\cdot 3^1 \\cdot 5^0 \\cdot 7^1. \\,\\!$\n",
        "\n",
        "$\\operatorname{lcm}(8,9,21) = 2^3 \\cdot 3^2 \\cdot 5^0 \\cdot 7^1 = 8 \\cdot 9 \\cdot 1 \\cdot 7 = 504. \\,\\!$"
      ]
    },
    {
      "metadata": {
        "internals": {
          "frag_helper": "fragment_end",
          "frag_number": 37,
          "slide_helper": "subslide_end",
          "slide_type": "subslide"
        },
        "slide_helper": "subslide_end",
        "id": "VSOcZVROom0b",
        "colab_type": "code",
        "colab": {}
      },
      "cell_type": "code",
      "source": [
        "def get_smallest_divisor_in_range_fast(N):\n",
        "    \"\"\"\n",
        "    Optimal solution for the problem is to count\n",
        "    LCM (Least common multiple) of all numbers in\n",
        "    a range of [1, N].\n",
        "    \"\"\"\n",
        "    prime_divisors = {}\n",
        "    # Loop from 2 to N.\n",
        "    for x in range(2, N+1):\n",
        "        # Find and save all prime divisors of `x`.\n",
        "        for divisor in range(2, int(x**0.5) + 1):\n",
        "            power = 0\n",
        "            # Find the power of the `divisor` in `x`.\n",
        "            while x % divisor == 0:\n",
        "                x /= divisor\n",
        "                power += 1\n",
        "            if power > 0:\n",
        "                # Save the `divisor` with the greatest power into our `prime_divisors` dict (hash-map).\n",
        "                if divisor in prime_divisors:\n",
        "                    if prime_divisors[divisor] < power:\n",
        "                        prime_divisors[divisor] = power\n",
        "                else:\n",
        "                    prime_divisors[divisor] = power\n",
        "            # Stop searching more divisors if `x` is already equals to `1` (all divisors are already found).\n",
        "            if x == 1:\n",
        "                break\n",
        "        else:\n",
        "            # If `x` is prime, we won't find any divisors and\n",
        "            # the above `for` loop will be over without hitting `break`,\n",
        "            # thus we just need to save `x` as prime_divisor in power of 1.\n",
        "            prime_divisors[x] = 1\n",
        "    # Having all prime divisors in their lowest powers we multiply all of them to get the answer.\n",
        "    least_common_multiple = 1\n",
        "    for divisor, power in prime_divisors.items():\n",
        "        least_common_multiple *= divisor ** power\n",
        "    return least_common_multiple"
      ],
      "execution_count": 0,
      "outputs": []
    },
    {
      "metadata": {
        "internals": {
          "frag_helper": "fragment_end",
          "frag_number": 37,
          "slide_type": "subslide"
        },
        "id": "JEJJ3t7yom0e",
        "colab_type": "code",
        "outputId": "11576d2e-6830-4d24-9528-a50fd1ac66d8",
        "colab": {}
      },
      "cell_type": "code",
      "source": [
        "%time print(get_smallest_divisor_in_range_fast(10))\n",
        "%time print(get_smallest_divisor_in_range_fast(20))"
      ],
      "execution_count": 0,
      "outputs": [
        {
          "output_type": "stream",
          "text": [
            "2520\n",
            "CPU times: user 238 µs, sys: 73 µs, total: 311 µs\n",
            "Wall time: 318 µs\n",
            "232792560\n",
            "CPU times: user 381 µs, sys: 32 µs, total: 413 µs\n",
            "Wall time: 5.35 ms\n"
          ],
          "name": "stdout"
        }
      ]
    },
    {
      "metadata": {
        "id": "MnB2igG7om0i",
        "colab_type": "code",
        "outputId": "f0b51adb-aeab-4b57-d96c-848bb24f5db3",
        "colab": {}
      },
      "cell_type": "code",
      "source": [
        "%time print(get_smallest_divisor_in_range_fast(10000))"
      ],
      "execution_count": 0,
      "outputs": [
        {
          "output_type": "stream",
          "text": [
            "57933396702876429686922708791662400986348602979985188253931383511489793001457731823088325981761829221665744176794023407056559491402467891577328326763021299466843118474637852656831938521549472347971073068161679301705472685236926463387338495220571064420250677315000599457941340849496227227628926493771018264821842230370349640102573492881424317306189569467101495834601991270039918780924506495405797923762205360790652073159333382795670426041033566699342449050309786673681670483369155689567554239898879039744147333971988258061042090970476729293484513072443614795766878726325795854855394491290821167148355514749149683707585283381546153703014210442470318180511906691108325146494219343498899382918018246586609827667470329166012110874981104800415741527586280026737848182673635645872230905234515169611121042867043956727839314198728626274066655467846183343599194761590368608472578398169740111485924046986870714883894285841394964627408094161019230662749101230783008668676907211199488107523306410531772045452853957706873238466829988649822157557103503283563398281775464911904789159515900987401574678885942493907604740891878907698622679570965569483682456042918236444719794534411171907606336090534029349351300276141892529795448751826394399153216183270385737795748770508612096374765333578237973395907265484337502903901947799663388329849198045756207969590055686607678195206367273600632909417024224754750428711236917913663419215925830944035539848749163178489614227546656090790164108195741048033614368495827231281392190063051315248070192263400801315095608512139510731469732311313898995746040563433121427776071482655904346538281010668476731132415829844984600414136781404774213539507859790229205890271721600309169926806121871750008163738773911610009508609149665332579632767397078877996926581337419351834754370411008686136818501030862345505385357198060894463821342298717851567836562984344806469613768024764967372979655179066074398198246805104576134474823016488842818077041661676098399378809713894284994865370648616800689225595431967181072865363430005250840767890912164530705704936837915584856606960687347372391339254432119085932175541392954343684716695162629271229789289404752104218596977036941910521266321726821940533986384237994403780618301379099347975260122724194454275088825587044488208965690373706904056926509324696308810974331790119456438147168585552011926921912167450509941646104076818762060881903969616431646384985895944231218505620547093874241169759205450145478746112796898626711966320965057212219958567338851356631739947125096250452942497473309299907612330435197454392788637359253116308685007014249605492659524429134513344137517101872279428202285951652856354827230765931502805341696470148698002737700823078904634554776750169178259216255903968865588749827789888950172452455448248833712309835657561369233157977405579365293671943131412034109901944892819245001657496671822581274180596255340507054499934060282320458240722454209933569735940032859109934686878274110864394924463573852015338428881961843292083566034669814619612606638283615766521897504566616272305253931938372830446073384019299355320864342734019517633662346790422915951954822645137091494126100390104510987373366328615363056042137440808225973600809566845718073791616927784260557845021823094999326904373592319407516660896764388092262510369182153559285446074990941863516247226532653142198551840063631989428776799533286215464660644129411503287306838551341184739976807097763115368031748646043780549055143428297230678053738453010234949008253769355207208167999203353157524666017029803679612131824740794652592875662818479980117505768541194835524231818203552256426752730455115752280837099763237606348192867936457993970866446264015812819179994138642295108872381709181937092290392544335464025324661284746003660247161196698209062164637264114930766444473471083408200329662059064201896721165015687487728300854501780810155844837489798144309942999091774466406270065305461848242329380636274754660519867343112275861821293501112101434868225378041813836808745417606289159904294165941408692922250601127804971962342807927743390030395048263275616935165347620718001157478088456439083590834464409622781693790883289597024043982584220069224170235863458745344365684082114430362867446193601075569803650773018026700003812298460527976219100308016537538008597751565631582745643139434508332515569645426771932483266712323523039014220800000\n",
            "CPU times: user 341 ms, sys: 9.31 ms, total: 351 ms\n",
            "Wall time: 485 ms\n"
          ],
          "name": "stdout"
        }
      ]
    },
    {
      "metadata": {
        "id": "gm0Q7Qhbom0l",
        "colab_type": "text"
      },
      "cell_type": "markdown",
      "source": [
        "### Even faster solution\n"
      ]
    },
    {
      "metadata": {
        "id": "eQpLPcDsom0m",
        "colab_type": "code",
        "colab": {}
      },
      "cell_type": "code",
      "source": [
        "try:\n",
        "    from math import gcd\n",
        "except ImportError:  # Python 2.x has `gcd` in `fractions` module instead of `math`\n",
        "    from fractions import gcd\n",
        "\n",
        "def get_smallest_divisor_in_range_fastest(N):\n",
        "    least_common_multiple = 1\n",
        "    for x in range(2, N + 1):\n",
        "        least_common_multiple = (least_common_multiple * x) // gcd(least_common_multiple, x)\n",
        "    return least_common_multiple"
      ],
      "execution_count": 0,
      "outputs": []
    },
    {
      "metadata": {
        "id": "YplJ1t_kom0p",
        "colab_type": "code",
        "outputId": "050c697e-7bcc-42f0-c6c2-0aceede2262e",
        "colab": {}
      },
      "cell_type": "code",
      "source": [
        "%time print(get_smallest_divisor_in_range_fastest(10))\n",
        "%time print(get_smallest_divisor_in_range_fastest(20))"
      ],
      "execution_count": 0,
      "outputs": [
        {
          "output_type": "stream",
          "text": [
            "2520\n",
            "CPU times: user 569 µs, sys: 630 µs, total: 1.2 ms\n",
            "Wall time: 919 µs\n",
            "232792560\n",
            "CPU times: user 55 µs, sys: 1 µs, total: 56 µs\n",
            "Wall time: 62 µs\n"
          ],
          "name": "stdout"
        }
      ]
    },
    {
      "metadata": {
        "id": "IjfxrX_7om0s",
        "colab_type": "code",
        "outputId": "413c54f9-d8ec-496e-fe68-3779ef4b4750",
        "colab": {}
      },
      "cell_type": "code",
      "source": [
        "%time print(get_smallest_divisor_in_range_fastest(10000))"
      ],
      "execution_count": 0,
      "outputs": [
        {
          "output_type": "stream",
          "text": [
            "57933396702876429686922708791662400986348602979985188253931383511489793001457731823088325981761829221665744176794023407056559491402467891577328326763021299466843118474637852656831938521549472347971073068161679301705472685236926463387338495220571064420250677315000599457941340849496227227628926493771018264821842230370349640102573492881424317306189569467101495834601991270039918780924506495405797923762205360790652073159333382795670426041033566699342449050309786673681670483369155689567554239898879039744147333971988258061042090970476729293484513072443614795766878726325795854855394491290821167148355514749149683707585283381546153703014210442470318180511906691108325146494219343498899382918018246586609827667470329166012110874981104800415741527586280026737848182673635645872230905234515169611121042867043956727839314198728626274066655467846183343599194761590368608472578398169740111485924046986870714883894285841394964627408094161019230662749101230783008668676907211199488107523306410531772045452853957706873238466829988649822157557103503283563398281775464911904789159515900987401574678885942493907604740891878907698622679570965569483682456042918236444719794534411171907606336090534029349351300276141892529795448751826394399153216183270385737795748770508612096374765333578237973395907265484337502903901947799663388329849198045756207969590055686607678195206367273600632909417024224754750428711236917913663419215925830944035539848749163178489614227546656090790164108195741048033614368495827231281392190063051315248070192263400801315095608512139510731469732311313898995746040563433121427776071482655904346538281010668476731132415829844984600414136781404774213539507859790229205890271721600309169926806121871750008163738773911610009508609149665332579632767397078877996926581337419351834754370411008686136818501030862345505385357198060894463821342298717851567836562984344806469613768024764967372979655179066074398198246805104576134474823016488842818077041661676098399378809713894284994865370648616800689225595431967181072865363430005250840767890912164530705704936837915584856606960687347372391339254432119085932175541392954343684716695162629271229789289404752104218596977036941910521266321726821940533986384237994403780618301379099347975260122724194454275088825587044488208965690373706904056926509324696308810974331790119456438147168585552011926921912167450509941646104076818762060881903969616431646384985895944231218505620547093874241169759205450145478746112796898626711966320965057212219958567338851356631739947125096250452942497473309299907612330435197454392788637359253116308685007014249605492659524429134513344137517101872279428202285951652856354827230765931502805341696470148698002737700823078904634554776750169178259216255903968865588749827789888950172452455448248833712309835657561369233157977405579365293671943131412034109901944892819245001657496671822581274180596255340507054499934060282320458240722454209933569735940032859109934686878274110864394924463573852015338428881961843292083566034669814619612606638283615766521897504566616272305253931938372830446073384019299355320864342734019517633662346790422915951954822645137091494126100390104510987373366328615363056042137440808225973600809566845718073791616927784260557845021823094999326904373592319407516660896764388092262510369182153559285446074990941863516247226532653142198551840063631989428776799533286215464660644129411503287306838551341184739976807097763115368031748646043780549055143428297230678053738453010234949008253769355207208167999203353157524666017029803679612131824740794652592875662818479980117505768541194835524231818203552256426752730455115752280837099763237606348192867936457993970866446264015812819179994138642295108872381709181937092290392544335464025324661284746003660247161196698209062164637264114930766444473471083408200329662059064201896721165015687487728300854501780810155844837489798144309942999091774466406270065305461848242329380636274754660519867343112275861821293501112101434868225378041813836808745417606289159904294165941408692922250601127804971962342807927743390030395048263275616935165347620718001157478088456439083590834464409622781693790883289597024043982584220069224170235863458745344365684082114430362867446193601075569803650773018026700003812298460527976219100308016537538008597751565631582745643139434508332515569645426771932483266712323523039014220800000\n",
            "CPU times: user 132 ms, sys: 5.21 ms, total: 137 ms\n",
            "Wall time: 307 ms\n"
          ],
          "name": "stdout"
        }
      ]
    },
    {
      "metadata": {
        "internals": {
          "frag_helper": "fragment_end",
          "frag_number": 37,
          "slide_type": "subslide"
        },
        "id": "2T80MtKMom0v",
        "colab_type": "text"
      },
      "cell_type": "markdown",
      "source": [
        "Very important references\n",
        "=========================\n",
        "\n",
        "* PEP 8 - Style Guide for Python Code: https://www.python.org/dev/peps/pep-0008/"
      ]
    },
    {
      "metadata": {
        "id": "IBranetIom0x",
        "colab_type": "code",
        "colab": {}
      },
      "cell_type": "code",
      "source": [
        "import math\n",
        "math?"
      ],
      "execution_count": 0,
      "outputs": []
    }
  ]
}