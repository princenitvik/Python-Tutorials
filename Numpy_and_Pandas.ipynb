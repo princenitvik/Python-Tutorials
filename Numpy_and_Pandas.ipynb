{
  "nbformat": 4,
  "nbformat_minor": 0,
  "metadata": {
    "colab": {
      "name": "Numpy_and_Pandas.ipynb",
      "version": "0.3.2",
      "provenance": [],
      "include_colab_link": true
    },
    "kernelspec": {
      "display_name": "Python 3",
      "language": "python",
      "name": "python3"
    }
  },
  "cells": [
    {
      "cell_type": "markdown",
      "metadata": {
        "id": "view-in-github",
        "colab_type": "text"
      },
      "source": [
        "<a href=\"https://colab.research.google.com/github/princenitvik/Python-Tutorials/blob/master/Numpy_and_Pandas.ipynb\" target=\"_parent\"><img src=\"https://colab.research.google.com/assets/colab-badge.svg\" alt=\"Open In Colab\"/></a>"
      ]
    },
    {
      "metadata": {
        "id": "H4_QZd0EtIKR",
        "colab_type": "text"
      },
      "cell_type": "markdown",
      "source": [
        "# Numpy and Pandas"
      ]
    },
    {
      "metadata": {
        "id": "elfC_NZJtIKT",
        "colab_type": "text"
      },
      "cell_type": "markdown",
      "source": [
        "## Numpy\n",
        "\n",
        "NumPy is the fundamental package for scientific computing with Python.\n",
        "\n",
        "http://www.numpy.org/"
      ]
    },
    {
      "metadata": {
        "id": "1_H8BuyltIKW",
        "colab_type": "text"
      },
      "cell_type": "markdown",
      "source": [
        "### It contains among other things:\n",
        "\n",
        "* a powerful N-dimensional array object\n",
        "* useful linear algebra, Fourier transform, and random number capabilities\n",
        "* tools for integrating C/C++ and Fortran code"
      ]
    },
    {
      "metadata": {
        "id": "Nxm_zvZ7tIKZ",
        "colab_type": "code",
        "colab": {},
        "outputId": "38b19660-2a8b-48f6-b2e9-945fe71ff684"
      },
      "cell_type": "code",
      "source": [
        "!conda install --yes --c conda-forge ipywidgets numpy pandas nomkl seaborn ipywidgets jupyter"
      ],
      "execution_count": 0,
      "outputs": [
        {
          "output_type": "stream",
          "text": [
            "Using Anaconda Cloud api site https://api.anaconda.org\r\n",
            "Fetching package metadata ..."
          ],
          "name": "stdout"
        }
      ]
    },
    {
      "metadata": {
        "id": "Wb19xUWktIKh",
        "colab_type": "code",
        "colab": {}
      },
      "cell_type": "code",
      "source": [
        "import numpy"
      ],
      "execution_count": 0,
      "outputs": []
    },
    {
      "metadata": {
        "id": "P6ZKPFpEtIKk",
        "colab_type": "code",
        "colab": {},
        "outputId": "b2327722-e4e9-433e-87c8-24d855f30784"
      },
      "cell_type": "code",
      "source": [
        "numpy.ones((2, 3))"
      ],
      "execution_count": 0,
      "outputs": [
        {
          "output_type": "execute_result",
          "data": {
            "text/plain": [
              "array([[ 1.,  1.,  1.],\n",
              "       [ 1.,  1.,  1.]])"
            ]
          },
          "metadata": {
            "tags": []
          },
          "execution_count": 2
        }
      ]
    },
    {
      "metadata": {
        "id": "3cOKwtUatIKo",
        "colab_type": "code",
        "colab": {},
        "outputId": "320399c6-ac95-41fb-d64c-cc71bfa0e3ed"
      },
      "cell_type": "code",
      "source": [
        "a = numpy.array([[1,2,3], [4,5,6], [7,8,9], [10, 11, 12]])\n",
        "a"
      ],
      "execution_count": 0,
      "outputs": [
        {
          "output_type": "execute_result",
          "data": {
            "text/plain": [
              "array([[ 1,  2,  3],\n",
              "       [ 4,  5,  6],\n",
              "       [ 7,  8,  9],\n",
              "       [10, 11, 12]])"
            ]
          },
          "metadata": {
            "tags": []
          },
          "execution_count": 3
        }
      ]
    },
    {
      "metadata": {
        "id": "HeEU4qdytIKt",
        "colab_type": "code",
        "colab": {},
        "outputId": "e1a690f7-3a94-4425-82a9-3810f44cd7d7"
      },
      "cell_type": "code",
      "source": [
        "a.shape"
      ],
      "execution_count": 0,
      "outputs": [
        {
          "output_type": "execute_result",
          "data": {
            "text/plain": [
              "(4, 3)"
            ]
          },
          "metadata": {
            "tags": []
          },
          "execution_count": 4
        }
      ]
    },
    {
      "metadata": {
        "id": "fsPnPHzqtIKw",
        "colab_type": "code",
        "colab": {},
        "outputId": "a983ff48-bf76-48d2-824d-23259c5137b8"
      },
      "cell_type": "code",
      "source": [
        "a.ndim"
      ],
      "execution_count": 0,
      "outputs": [
        {
          "output_type": "execute_result",
          "data": {
            "text/plain": [
              "2"
            ]
          },
          "metadata": {
            "tags": []
          },
          "execution_count": 5
        }
      ]
    },
    {
      "metadata": {
        "id": "rl82DOaUtIK0",
        "colab_type": "code",
        "colab": {},
        "outputId": "ca9f998a-b75c-4295-c757-822dae7b25fe"
      },
      "cell_type": "code",
      "source": [
        "a.size"
      ],
      "execution_count": 0,
      "outputs": [
        {
          "output_type": "execute_result",
          "data": {
            "text/plain": [
              "12"
            ]
          },
          "metadata": {
            "tags": []
          },
          "execution_count": 6
        }
      ]
    },
    {
      "metadata": {
        "id": "ka0MyFChtIK4",
        "colab_type": "code",
        "colab": {},
        "outputId": "13fb157e-995f-45f7-94e2-fc4a9e41f1c8"
      },
      "cell_type": "code",
      "source": [
        "a - numpy.random.random(a.shape)"
      ],
      "execution_count": 0,
      "outputs": [
        {
          "output_type": "execute_result",
          "data": {
            "text/plain": [
              "array([[  0.37772541,   1.4749529 ,   2.40223093],\n",
              "       [  3.69957528,   4.84057082,   5.01177475],\n",
              "       [  6.20454538,   7.2169713 ,   8.82870779],\n",
              "       [  9.38959571,  10.0096205 ,  11.93880162]])"
            ]
          },
          "metadata": {
            "tags": []
          },
          "execution_count": 7
        }
      ]
    },
    {
      "metadata": {
        "id": "CWcvvMautIK8",
        "colab_type": "code",
        "colab": {},
        "outputId": "3756d20c-bf5d-4eb0-eccc-c475a4f3a921"
      },
      "cell_type": "code",
      "source": [
        "a.ravel()"
      ],
      "execution_count": 0,
      "outputs": [
        {
          "output_type": "execute_result",
          "data": {
            "text/plain": [
              "array([ 1,  2,  3,  4,  5,  6,  7,  8,  9, 10, 11, 12])"
            ]
          },
          "metadata": {
            "tags": []
          },
          "execution_count": 8
        }
      ]
    },
    {
      "metadata": {
        "id": "bDSX7JVbtIK_",
        "colab_type": "code",
        "colab": {},
        "outputId": "27931f23-0adc-400f-f03c-585188cf5a22"
      },
      "cell_type": "code",
      "source": [
        "a"
      ],
      "execution_count": 0,
      "outputs": [
        {
          "output_type": "execute_result",
          "data": {
            "text/plain": [
              "array([[ 1,  2,  3],\n",
              "       [ 4,  5,  6],\n",
              "       [ 7,  8,  9],\n",
              "       [10, 11, 12]])"
            ]
          },
          "metadata": {
            "tags": []
          },
          "execution_count": 9
        }
      ]
    },
    {
      "metadata": {
        "id": "ZxnoeNjStILB",
        "colab_type": "code",
        "colab": {},
        "outputId": "ea331c8e-da86-4f6f-81cf-288d9b596523"
      },
      "cell_type": "code",
      "source": [
        "a[1:-1]"
      ],
      "execution_count": 0,
      "outputs": [
        {
          "output_type": "execute_result",
          "data": {
            "text/plain": [
              "array([[4, 5, 6],\n",
              "       [7, 8, 9]])"
            ]
          },
          "metadata": {
            "tags": []
          },
          "execution_count": 10
        }
      ]
    },
    {
      "metadata": {
        "id": "MTh-fDtXtILE",
        "colab_type": "code",
        "colab": {},
        "outputId": "ffdcb5c7-ec21-41e3-f9b5-abd5aa4717c1"
      },
      "cell_type": "code",
      "source": [
        "'>qwweqwe<'[1:-1]"
      ],
      "execution_count": 0,
      "outputs": [
        {
          "output_type": "execute_result",
          "data": {
            "text/plain": [
              "'qwweqwe'"
            ]
          },
          "metadata": {
            "tags": []
          },
          "execution_count": 11
        }
      ]
    },
    {
      "metadata": {
        "id": "xxZQW8cytILI",
        "colab_type": "code",
        "colab": {},
        "outputId": "88ab9661-78d4-4b92-d5fb-2f85964612f5"
      },
      "cell_type": "code",
      "source": [
        "a"
      ],
      "execution_count": 0,
      "outputs": [
        {
          "output_type": "execute_result",
          "data": {
            "text/plain": [
              "array([[ 1,  2,  3],\n",
              "       [ 4,  5,  6],\n",
              "       [ 7,  8,  9],\n",
              "       [10, 11, 12]])"
            ]
          },
          "metadata": {
            "tags": []
          },
          "execution_count": 12
        }
      ]
    },
    {
      "metadata": {
        "id": "y5TRdWDKtILP",
        "colab_type": "code",
        "colab": {},
        "outputId": "a26f3178-de6d-4485-9d99-129b2f0c7c49"
      },
      "cell_type": "code",
      "source": [
        "a[:,1]"
      ],
      "execution_count": 0,
      "outputs": [
        {
          "output_type": "execute_result",
          "data": {
            "text/plain": [
              "array([ 2,  5,  8, 11])"
            ]
          },
          "metadata": {
            "tags": []
          },
          "execution_count": 13
        }
      ]
    },
    {
      "metadata": {
        "id": "JBCQsaoDtILT",
        "colab_type": "code",
        "colab": {}
      },
      "cell_type": "code",
      "source": [
        "a[a % 2 == 0] = -1"
      ],
      "execution_count": 0,
      "outputs": []
    },
    {
      "metadata": {
        "id": "jccyeeUptILW",
        "colab_type": "code",
        "colab": {},
        "outputId": "705a438f-cb35-4df8-af0e-59851e783d01"
      },
      "cell_type": "code",
      "source": [
        "a"
      ],
      "execution_count": 0,
      "outputs": [
        {
          "output_type": "execute_result",
          "data": {
            "text/plain": [
              "array([[ 1, -1,  3],\n",
              "       [-1,  5, -1],\n",
              "       [ 7, -1,  9],\n",
              "       [-1, 11, -1]])"
            ]
          },
          "metadata": {
            "tags": []
          },
          "execution_count": 15
        }
      ]
    },
    {
      "metadata": {
        "id": "xCwFHSqStILZ",
        "colab_type": "text"
      },
      "cell_type": "markdown",
      "source": [
        "## Pandas\n",
        "\n",
        "Pandas is an open source, BSD-licensed library providing high-performance, easy-to-use data structures and data analysis tools for the Python programming language.\n",
        "\n",
        "http://pandas.pydata.org/"
      ]
    },
    {
      "metadata": {
        "id": "oFUoQ7C0tILZ",
        "colab_type": "text"
      },
      "cell_type": "markdown",
      "source": [
        "### It features:\n",
        "\n",
        "* A fast and efficient DataFrame object for data manipulation with integrated indexing;\n",
        "* Tools for reading and writing data between in-memory data structures and different formats: CSV and text files, Microsoft Excel, SQL databases, and the fast HDF5 format;\n",
        "* Intelligent label-based slicing, fancy indexing, and subsetting of large data sets;\n",
        "* Aggregating or transforming data with a powerful group by engine allowing split-apply-combine operations on data sets."
      ]
    },
    {
      "metadata": {
        "id": "36NBhfV1tILa",
        "colab_type": "code",
        "colab": {}
      },
      "cell_type": "code",
      "source": [
        "import pandas"
      ],
      "execution_count": 0,
      "outputs": []
    },
    {
      "metadata": {
        "id": "J0kfJKNbtILc",
        "colab_type": "code",
        "colab": {}
      },
      "cell_type": "code",
      "source": [
        "boston_dataset = pandas.read_csv(\"../static/Boston.csv\")"
      ],
      "execution_count": 0,
      "outputs": []
    },
    {
      "metadata": {
        "id": "KUogSe5ctILe",
        "colab_type": "code",
        "colab": {},
        "outputId": "037cfe28-cebf-4706-ef83-c29cad9b7dd8"
      },
      "cell_type": "code",
      "source": [
        "boston_dataset[:10]"
      ],
      "execution_count": 0,
      "outputs": [
        {
          "output_type": "execute_result",
          "data": {
            "text/html": [
              "<div>\n",
              "<table border=\"1\" class=\"dataframe\">\n",
              "  <thead>\n",
              "    <tr style=\"text-align: right;\">\n",
              "      <th></th>\n",
              "      <th>CRIM</th>\n",
              "      <th>ZN</th>\n",
              "      <th>INDUS</th>\n",
              "      <th>CHAS</th>\n",
              "      <th>NOX</th>\n",
              "      <th>RM</th>\n",
              "      <th>AGE</th>\n",
              "      <th>DIS</th>\n",
              "      <th>RAD</th>\n",
              "      <th>TAX</th>\n",
              "      <th>PT</th>\n",
              "      <th>B</th>\n",
              "      <th>LSTAT</th>\n",
              "      <th>MV</th>\n",
              "    </tr>\n",
              "  </thead>\n",
              "  <tbody>\n",
              "    <tr>\n",
              "      <th>0</th>\n",
              "      <td>0.00632</td>\n",
              "      <td>18.0</td>\n",
              "      <td>2.31</td>\n",
              "      <td>0</td>\n",
              "      <td>0.538</td>\n",
              "      <td>6.575</td>\n",
              "      <td>65.2</td>\n",
              "      <td>4.0900</td>\n",
              "      <td>1</td>\n",
              "      <td>296</td>\n",
              "      <td>15.3</td>\n",
              "      <td>396.90</td>\n",
              "      <td>4.98</td>\n",
              "      <td>24.0</td>\n",
              "    </tr>\n",
              "    <tr>\n",
              "      <th>1</th>\n",
              "      <td>0.02731</td>\n",
              "      <td>0.0</td>\n",
              "      <td>7.07</td>\n",
              "      <td>0</td>\n",
              "      <td>0.469</td>\n",
              "      <td>6.421</td>\n",
              "      <td>78.9</td>\n",
              "      <td>4.9671</td>\n",
              "      <td>2</td>\n",
              "      <td>242</td>\n",
              "      <td>17.8</td>\n",
              "      <td>396.90</td>\n",
              "      <td>9.14</td>\n",
              "      <td>21.6</td>\n",
              "    </tr>\n",
              "    <tr>\n",
              "      <th>2</th>\n",
              "      <td>0.02729</td>\n",
              "      <td>0.0</td>\n",
              "      <td>7.07</td>\n",
              "      <td>0</td>\n",
              "      <td>0.469</td>\n",
              "      <td>7.185</td>\n",
              "      <td>61.1</td>\n",
              "      <td>4.9671</td>\n",
              "      <td>2</td>\n",
              "      <td>242</td>\n",
              "      <td>17.8</td>\n",
              "      <td>392.83</td>\n",
              "      <td>4.03</td>\n",
              "      <td>34.7</td>\n",
              "    </tr>\n",
              "    <tr>\n",
              "      <th>3</th>\n",
              "      <td>0.03237</td>\n",
              "      <td>0.0</td>\n",
              "      <td>2.18</td>\n",
              "      <td>0</td>\n",
              "      <td>0.458</td>\n",
              "      <td>6.998</td>\n",
              "      <td>45.8</td>\n",
              "      <td>6.0622</td>\n",
              "      <td>3</td>\n",
              "      <td>222</td>\n",
              "      <td>18.7</td>\n",
              "      <td>394.63</td>\n",
              "      <td>2.94</td>\n",
              "      <td>33.4</td>\n",
              "    </tr>\n",
              "    <tr>\n",
              "      <th>4</th>\n",
              "      <td>0.06905</td>\n",
              "      <td>0.0</td>\n",
              "      <td>2.18</td>\n",
              "      <td>0</td>\n",
              "      <td>0.458</td>\n",
              "      <td>7.147</td>\n",
              "      <td>54.2</td>\n",
              "      <td>6.0622</td>\n",
              "      <td>3</td>\n",
              "      <td>222</td>\n",
              "      <td>18.7</td>\n",
              "      <td>396.90</td>\n",
              "      <td>5.33</td>\n",
              "      <td>36.2</td>\n",
              "    </tr>\n",
              "    <tr>\n",
              "      <th>5</th>\n",
              "      <td>0.02985</td>\n",
              "      <td>0.0</td>\n",
              "      <td>2.18</td>\n",
              "      <td>0</td>\n",
              "      <td>0.458</td>\n",
              "      <td>6.430</td>\n",
              "      <td>58.7</td>\n",
              "      <td>6.0622</td>\n",
              "      <td>3</td>\n",
              "      <td>222</td>\n",
              "      <td>18.7</td>\n",
              "      <td>394.12</td>\n",
              "      <td>5.21</td>\n",
              "      <td>28.7</td>\n",
              "    </tr>\n",
              "    <tr>\n",
              "      <th>6</th>\n",
              "      <td>0.08829</td>\n",
              "      <td>12.5</td>\n",
              "      <td>7.87</td>\n",
              "      <td>0</td>\n",
              "      <td>0.524</td>\n",
              "      <td>6.012</td>\n",
              "      <td>66.6</td>\n",
              "      <td>5.5605</td>\n",
              "      <td>5</td>\n",
              "      <td>311</td>\n",
              "      <td>15.2</td>\n",
              "      <td>395.60</td>\n",
              "      <td>12.43</td>\n",
              "      <td>22.9</td>\n",
              "    </tr>\n",
              "    <tr>\n",
              "      <th>7</th>\n",
              "      <td>0.14455</td>\n",
              "      <td>12.5</td>\n",
              "      <td>7.87</td>\n",
              "      <td>0</td>\n",
              "      <td>0.524</td>\n",
              "      <td>6.172</td>\n",
              "      <td>96.1</td>\n",
              "      <td>5.9505</td>\n",
              "      <td>5</td>\n",
              "      <td>311</td>\n",
              "      <td>15.2</td>\n",
              "      <td>396.90</td>\n",
              "      <td>19.15</td>\n",
              "      <td>27.1</td>\n",
              "    </tr>\n",
              "    <tr>\n",
              "      <th>8</th>\n",
              "      <td>0.21124</td>\n",
              "      <td>12.5</td>\n",
              "      <td>7.87</td>\n",
              "      <td>0</td>\n",
              "      <td>0.524</td>\n",
              "      <td>5.631</td>\n",
              "      <td>100.0</td>\n",
              "      <td>6.0821</td>\n",
              "      <td>5</td>\n",
              "      <td>311</td>\n",
              "      <td>15.2</td>\n",
              "      <td>386.63</td>\n",
              "      <td>29.93</td>\n",
              "      <td>16.5</td>\n",
              "    </tr>\n",
              "    <tr>\n",
              "      <th>9</th>\n",
              "      <td>0.17004</td>\n",
              "      <td>12.5</td>\n",
              "      <td>7.87</td>\n",
              "      <td>0</td>\n",
              "      <td>0.524</td>\n",
              "      <td>6.004</td>\n",
              "      <td>85.9</td>\n",
              "      <td>6.5921</td>\n",
              "      <td>5</td>\n",
              "      <td>311</td>\n",
              "      <td>15.2</td>\n",
              "      <td>386.71</td>\n",
              "      <td>17.10</td>\n",
              "      <td>18.9</td>\n",
              "    </tr>\n",
              "  </tbody>\n",
              "</table>\n",
              "</div>"
            ],
            "text/plain": [
              "      CRIM    ZN  INDUS  CHAS    NOX     RM    AGE     DIS  RAD  TAX    PT  \\\n",
              "0  0.00632  18.0   2.31     0  0.538  6.575   65.2  4.0900    1  296  15.3   \n",
              "1  0.02731   0.0   7.07     0  0.469  6.421   78.9  4.9671    2  242  17.8   \n",
              "2  0.02729   0.0   7.07     0  0.469  7.185   61.1  4.9671    2  242  17.8   \n",
              "3  0.03237   0.0   2.18     0  0.458  6.998   45.8  6.0622    3  222  18.7   \n",
              "4  0.06905   0.0   2.18     0  0.458  7.147   54.2  6.0622    3  222  18.7   \n",
              "5  0.02985   0.0   2.18     0  0.458  6.430   58.7  6.0622    3  222  18.7   \n",
              "6  0.08829  12.5   7.87     0  0.524  6.012   66.6  5.5605    5  311  15.2   \n",
              "7  0.14455  12.5   7.87     0  0.524  6.172   96.1  5.9505    5  311  15.2   \n",
              "8  0.21124  12.5   7.87     0  0.524  5.631  100.0  6.0821    5  311  15.2   \n",
              "9  0.17004  12.5   7.87     0  0.524  6.004   85.9  6.5921    5  311  15.2   \n",
              "\n",
              "        B  LSTAT    MV  \n",
              "0  396.90   4.98  24.0  \n",
              "1  396.90   9.14  21.6  \n",
              "2  392.83   4.03  34.7  \n",
              "3  394.63   2.94  33.4  \n",
              "4  396.90   5.33  36.2  \n",
              "5  394.12   5.21  28.7  \n",
              "6  395.60  12.43  22.9  \n",
              "7  396.90  19.15  27.1  \n",
              "8  386.63  29.93  16.5  \n",
              "9  386.71  17.10  18.9  "
            ]
          },
          "metadata": {
            "tags": []
          },
          "execution_count": 18
        }
      ]
    },
    {
      "metadata": {
        "id": "9Ajo0kuGtILh",
        "colab_type": "code",
        "colab": {},
        "outputId": "2727cca1-fa8f-4958-ec4c-3f54c98345ad"
      },
      "cell_type": "code",
      "source": [
        "boston_dataset[boston_dataset['MV'] < 7]"
      ],
      "execution_count": 0,
      "outputs": [
        {
          "output_type": "execute_result",
          "data": {
            "text/html": [
              "<div>\n",
              "<table border=\"1\" class=\"dataframe\">\n",
              "  <thead>\n",
              "    <tr style=\"text-align: right;\">\n",
              "      <th></th>\n",
              "      <th>CRIM</th>\n",
              "      <th>ZN</th>\n",
              "      <th>INDUS</th>\n",
              "      <th>CHAS</th>\n",
              "      <th>NOX</th>\n",
              "      <th>RM</th>\n",
              "      <th>AGE</th>\n",
              "      <th>DIS</th>\n",
              "      <th>RAD</th>\n",
              "      <th>TAX</th>\n",
              "      <th>PT</th>\n",
              "      <th>B</th>\n",
              "      <th>LSTAT</th>\n",
              "      <th>MV</th>\n",
              "    </tr>\n",
              "  </thead>\n",
              "  <tbody>\n",
              "    <tr>\n",
              "      <th>398</th>\n",
              "      <td>38.35180</td>\n",
              "      <td>0.0</td>\n",
              "      <td>18.1</td>\n",
              "      <td>0</td>\n",
              "      <td>0.693</td>\n",
              "      <td>5.453</td>\n",
              "      <td>100.0</td>\n",
              "      <td>1.4896</td>\n",
              "      <td>24</td>\n",
              "      <td>666</td>\n",
              "      <td>20.2</td>\n",
              "      <td>396.90</td>\n",
              "      <td>30.59</td>\n",
              "      <td>5.0</td>\n",
              "    </tr>\n",
              "    <tr>\n",
              "      <th>399</th>\n",
              "      <td>9.91655</td>\n",
              "      <td>0.0</td>\n",
              "      <td>18.1</td>\n",
              "      <td>0</td>\n",
              "      <td>0.693</td>\n",
              "      <td>5.852</td>\n",
              "      <td>77.8</td>\n",
              "      <td>1.5004</td>\n",
              "      <td>24</td>\n",
              "      <td>666</td>\n",
              "      <td>20.2</td>\n",
              "      <td>338.16</td>\n",
              "      <td>29.97</td>\n",
              "      <td>6.3</td>\n",
              "    </tr>\n",
              "    <tr>\n",
              "      <th>400</th>\n",
              "      <td>25.04610</td>\n",
              "      <td>0.0</td>\n",
              "      <td>18.1</td>\n",
              "      <td>0</td>\n",
              "      <td>0.693</td>\n",
              "      <td>5.987</td>\n",
              "      <td>100.0</td>\n",
              "      <td>1.5888</td>\n",
              "      <td>24</td>\n",
              "      <td>666</td>\n",
              "      <td>20.2</td>\n",
              "      <td>396.90</td>\n",
              "      <td>26.77</td>\n",
              "      <td>5.6</td>\n",
              "    </tr>\n",
              "    <tr>\n",
              "      <th>405</th>\n",
              "      <td>67.92080</td>\n",
              "      <td>0.0</td>\n",
              "      <td>18.1</td>\n",
              "      <td>0</td>\n",
              "      <td>0.693</td>\n",
              "      <td>5.683</td>\n",
              "      <td>100.0</td>\n",
              "      <td>1.4254</td>\n",
              "      <td>24</td>\n",
              "      <td>666</td>\n",
              "      <td>20.2</td>\n",
              "      <td>384.97</td>\n",
              "      <td>22.98</td>\n",
              "      <td>5.0</td>\n",
              "    </tr>\n",
              "  </tbody>\n",
              "</table>\n",
              "</div>"
            ],
            "text/plain": [
              "         CRIM   ZN  INDUS  CHAS    NOX     RM    AGE     DIS  RAD  TAX    PT  \\\n",
              "398  38.35180  0.0   18.1     0  0.693  5.453  100.0  1.4896   24  666  20.2   \n",
              "399   9.91655  0.0   18.1     0  0.693  5.852   77.8  1.5004   24  666  20.2   \n",
              "400  25.04610  0.0   18.1     0  0.693  5.987  100.0  1.5888   24  666  20.2   \n",
              "405  67.92080  0.0   18.1     0  0.693  5.683  100.0  1.4254   24  666  20.2   \n",
              "\n",
              "          B  LSTAT   MV  \n",
              "398  396.90  30.59  5.0  \n",
              "399  338.16  29.97  6.3  \n",
              "400  396.90  26.77  5.6  \n",
              "405  384.97  22.98  5.0  "
            ]
          },
          "metadata": {
            "tags": []
          },
          "execution_count": 19
        }
      ]
    },
    {
      "metadata": {
        "id": "NZCxqRRztILo",
        "colab_type": "code",
        "colab": {}
      },
      "cell_type": "code",
      "source": [
        "boston_dataset['TARGET'] = boston_dataset['MV'].astype(int)"
      ],
      "execution_count": 0,
      "outputs": []
    },
    {
      "metadata": {
        "id": "sZrIhmvNtILq",
        "colab_type": "code",
        "colab": {},
        "outputId": "cc41997e-f5a7-46a0-e111-949777f96ba1"
      },
      "cell_type": "code",
      "source": [
        "boston_dataset[:10]"
      ],
      "execution_count": 0,
      "outputs": [
        {
          "output_type": "execute_result",
          "data": {
            "text/html": [
              "<div>\n",
              "<table border=\"1\" class=\"dataframe\">\n",
              "  <thead>\n",
              "    <tr style=\"text-align: right;\">\n",
              "      <th></th>\n",
              "      <th>CRIM</th>\n",
              "      <th>ZN</th>\n",
              "      <th>INDUS</th>\n",
              "      <th>CHAS</th>\n",
              "      <th>NOX</th>\n",
              "      <th>RM</th>\n",
              "      <th>AGE</th>\n",
              "      <th>DIS</th>\n",
              "      <th>RAD</th>\n",
              "      <th>TAX</th>\n",
              "      <th>PT</th>\n",
              "      <th>B</th>\n",
              "      <th>LSTAT</th>\n",
              "      <th>MV</th>\n",
              "      <th>TARGET</th>\n",
              "    </tr>\n",
              "  </thead>\n",
              "  <tbody>\n",
              "    <tr>\n",
              "      <th>0</th>\n",
              "      <td>0.00632</td>\n",
              "      <td>18.0</td>\n",
              "      <td>2.31</td>\n",
              "      <td>0</td>\n",
              "      <td>0.538</td>\n",
              "      <td>6.575</td>\n",
              "      <td>65.2</td>\n",
              "      <td>4.0900</td>\n",
              "      <td>1</td>\n",
              "      <td>296</td>\n",
              "      <td>15.3</td>\n",
              "      <td>396.90</td>\n",
              "      <td>4.98</td>\n",
              "      <td>24.0</td>\n",
              "      <td>24</td>\n",
              "    </tr>\n",
              "    <tr>\n",
              "      <th>1</th>\n",
              "      <td>0.02731</td>\n",
              "      <td>0.0</td>\n",
              "      <td>7.07</td>\n",
              "      <td>0</td>\n",
              "      <td>0.469</td>\n",
              "      <td>6.421</td>\n",
              "      <td>78.9</td>\n",
              "      <td>4.9671</td>\n",
              "      <td>2</td>\n",
              "      <td>242</td>\n",
              "      <td>17.8</td>\n",
              "      <td>396.90</td>\n",
              "      <td>9.14</td>\n",
              "      <td>21.6</td>\n",
              "      <td>21</td>\n",
              "    </tr>\n",
              "    <tr>\n",
              "      <th>2</th>\n",
              "      <td>0.02729</td>\n",
              "      <td>0.0</td>\n",
              "      <td>7.07</td>\n",
              "      <td>0</td>\n",
              "      <td>0.469</td>\n",
              "      <td>7.185</td>\n",
              "      <td>61.1</td>\n",
              "      <td>4.9671</td>\n",
              "      <td>2</td>\n",
              "      <td>242</td>\n",
              "      <td>17.8</td>\n",
              "      <td>392.83</td>\n",
              "      <td>4.03</td>\n",
              "      <td>34.7</td>\n",
              "      <td>34</td>\n",
              "    </tr>\n",
              "    <tr>\n",
              "      <th>3</th>\n",
              "      <td>0.03237</td>\n",
              "      <td>0.0</td>\n",
              "      <td>2.18</td>\n",
              "      <td>0</td>\n",
              "      <td>0.458</td>\n",
              "      <td>6.998</td>\n",
              "      <td>45.8</td>\n",
              "      <td>6.0622</td>\n",
              "      <td>3</td>\n",
              "      <td>222</td>\n",
              "      <td>18.7</td>\n",
              "      <td>394.63</td>\n",
              "      <td>2.94</td>\n",
              "      <td>33.4</td>\n",
              "      <td>33</td>\n",
              "    </tr>\n",
              "    <tr>\n",
              "      <th>4</th>\n",
              "      <td>0.06905</td>\n",
              "      <td>0.0</td>\n",
              "      <td>2.18</td>\n",
              "      <td>0</td>\n",
              "      <td>0.458</td>\n",
              "      <td>7.147</td>\n",
              "      <td>54.2</td>\n",
              "      <td>6.0622</td>\n",
              "      <td>3</td>\n",
              "      <td>222</td>\n",
              "      <td>18.7</td>\n",
              "      <td>396.90</td>\n",
              "      <td>5.33</td>\n",
              "      <td>36.2</td>\n",
              "      <td>36</td>\n",
              "    </tr>\n",
              "    <tr>\n",
              "      <th>5</th>\n",
              "      <td>0.02985</td>\n",
              "      <td>0.0</td>\n",
              "      <td>2.18</td>\n",
              "      <td>0</td>\n",
              "      <td>0.458</td>\n",
              "      <td>6.430</td>\n",
              "      <td>58.7</td>\n",
              "      <td>6.0622</td>\n",
              "      <td>3</td>\n",
              "      <td>222</td>\n",
              "      <td>18.7</td>\n",
              "      <td>394.12</td>\n",
              "      <td>5.21</td>\n",
              "      <td>28.7</td>\n",
              "      <td>28</td>\n",
              "    </tr>\n",
              "    <tr>\n",
              "      <th>6</th>\n",
              "      <td>0.08829</td>\n",
              "      <td>12.5</td>\n",
              "      <td>7.87</td>\n",
              "      <td>0</td>\n",
              "      <td>0.524</td>\n",
              "      <td>6.012</td>\n",
              "      <td>66.6</td>\n",
              "      <td>5.5605</td>\n",
              "      <td>5</td>\n",
              "      <td>311</td>\n",
              "      <td>15.2</td>\n",
              "      <td>395.60</td>\n",
              "      <td>12.43</td>\n",
              "      <td>22.9</td>\n",
              "      <td>22</td>\n",
              "    </tr>\n",
              "    <tr>\n",
              "      <th>7</th>\n",
              "      <td>0.14455</td>\n",
              "      <td>12.5</td>\n",
              "      <td>7.87</td>\n",
              "      <td>0</td>\n",
              "      <td>0.524</td>\n",
              "      <td>6.172</td>\n",
              "      <td>96.1</td>\n",
              "      <td>5.9505</td>\n",
              "      <td>5</td>\n",
              "      <td>311</td>\n",
              "      <td>15.2</td>\n",
              "      <td>396.90</td>\n",
              "      <td>19.15</td>\n",
              "      <td>27.1</td>\n",
              "      <td>27</td>\n",
              "    </tr>\n",
              "    <tr>\n",
              "      <th>8</th>\n",
              "      <td>0.21124</td>\n",
              "      <td>12.5</td>\n",
              "      <td>7.87</td>\n",
              "      <td>0</td>\n",
              "      <td>0.524</td>\n",
              "      <td>5.631</td>\n",
              "      <td>100.0</td>\n",
              "      <td>6.0821</td>\n",
              "      <td>5</td>\n",
              "      <td>311</td>\n",
              "      <td>15.2</td>\n",
              "      <td>386.63</td>\n",
              "      <td>29.93</td>\n",
              "      <td>16.5</td>\n",
              "      <td>16</td>\n",
              "    </tr>\n",
              "    <tr>\n",
              "      <th>9</th>\n",
              "      <td>0.17004</td>\n",
              "      <td>12.5</td>\n",
              "      <td>7.87</td>\n",
              "      <td>0</td>\n",
              "      <td>0.524</td>\n",
              "      <td>6.004</td>\n",
              "      <td>85.9</td>\n",
              "      <td>6.5921</td>\n",
              "      <td>5</td>\n",
              "      <td>311</td>\n",
              "      <td>15.2</td>\n",
              "      <td>386.71</td>\n",
              "      <td>17.10</td>\n",
              "      <td>18.9</td>\n",
              "      <td>18</td>\n",
              "    </tr>\n",
              "  </tbody>\n",
              "</table>\n",
              "</div>"
            ],
            "text/plain": [
              "      CRIM    ZN  INDUS  CHAS    NOX     RM    AGE     DIS  RAD  TAX    PT  \\\n",
              "0  0.00632  18.0   2.31     0  0.538  6.575   65.2  4.0900    1  296  15.3   \n",
              "1  0.02731   0.0   7.07     0  0.469  6.421   78.9  4.9671    2  242  17.8   \n",
              "2  0.02729   0.0   7.07     0  0.469  7.185   61.1  4.9671    2  242  17.8   \n",
              "3  0.03237   0.0   2.18     0  0.458  6.998   45.8  6.0622    3  222  18.7   \n",
              "4  0.06905   0.0   2.18     0  0.458  7.147   54.2  6.0622    3  222  18.7   \n",
              "5  0.02985   0.0   2.18     0  0.458  6.430   58.7  6.0622    3  222  18.7   \n",
              "6  0.08829  12.5   7.87     0  0.524  6.012   66.6  5.5605    5  311  15.2   \n",
              "7  0.14455  12.5   7.87     0  0.524  6.172   96.1  5.9505    5  311  15.2   \n",
              "8  0.21124  12.5   7.87     0  0.524  5.631  100.0  6.0821    5  311  15.2   \n",
              "9  0.17004  12.5   7.87     0  0.524  6.004   85.9  6.5921    5  311  15.2   \n",
              "\n",
              "        B  LSTAT    MV  TARGET  \n",
              "0  396.90   4.98  24.0      24  \n",
              "1  396.90   9.14  21.6      21  \n",
              "2  392.83   4.03  34.7      34  \n",
              "3  394.63   2.94  33.4      33  \n",
              "4  396.90   5.33  36.2      36  \n",
              "5  394.12   5.21  28.7      28  \n",
              "6  395.60  12.43  22.9      22  \n",
              "7  396.90  19.15  27.1      27  \n",
              "8  386.63  29.93  16.5      16  \n",
              "9  386.71  17.10  18.9      18  "
            ]
          },
          "metadata": {
            "tags": []
          },
          "execution_count": 21
        }
      ]
    },
    {
      "metadata": {
        "id": "68_xRtABtILt",
        "colab_type": "code",
        "colab": {},
        "outputId": "cf9d7b05-569a-4c4d-da9c-e0a5af3d4e9a"
      },
      "cell_type": "code",
      "source": [
        "%pylab inline\n",
        "\n",
        "import seaborn\n",
        "seaborn.set_context('talk')"
      ],
      "execution_count": 0,
      "outputs": [
        {
          "output_type": "stream",
          "text": [
            "Populating the interactive namespace from numpy and matplotlib\n"
          ],
          "name": "stdout"
        }
      ]
    },
    {
      "metadata": {
        "id": "TpMOEm0CtILy",
        "colab_type": "text"
      },
      "cell_type": "markdown",
      "source": [
        "### Plot a histogram with 50 bins"
      ]
    },
    {
      "metadata": {
        "id": "6DFR1rrJtILz",
        "colab_type": "code",
        "colab": {},
        "outputId": "698da646-ac4a-4532-d3db-986779b14d15"
      },
      "cell_type": "code",
      "source": [
        "boston_dataset['MV'].hist(bins=50);"
      ],
      "execution_count": 0,
      "outputs": [
        {
          "output_type": "display_data",
          "data": {
            "image/png": "[encoded data removed]",
            "text/plain": [
              "<matplotlib.figure.Figure at 0x10aa66048>"
            ]
          },
          "metadata": {
            "tags": []
          }
        }
      ]
    },
    {
      "metadata": {
        "id": "hgkS_W5GtIL3",
        "colab_type": "text"
      },
      "cell_type": "markdown",
      "source": [
        "### Jupyter Notebook interactive features"
      ]
    },
    {
      "metadata": {
        "id": "xLXScA0RtIL3",
        "colab_type": "code",
        "colab": {},
        "outputId": "01235a67-3edc-402c-e80d-73462750a48a"
      },
      "cell_type": "code",
      "source": [
        "def plot_by(dataset, column='MV', bins_count=10):\n",
        "    plot = boston_dataset[column].hist(bins=bins_count)\n",
        "    \n",
        "    # Plot settings.\n",
        "    pyplot.title('%s Values' % column)\n",
        "    pyplot.ylabel('N')\n",
        "\n",
        "from ipywidgets import interact, fixed\n",
        "interact(\n",
        "    plot_by,\n",
        "    dataset=fixed(boston_dataset),\n",
        "    column=boston_dataset.columns.tolist(),\n",
        "    bins_count=(5,50)\n",
        ");"
      ],
      "execution_count": 0,
      "outputs": [
        {
          "output_type": "display_data",
          "data": {
            "image/png": "[encoded data removed]",
            "text/plain": [
              "<matplotlib.figure.Figure at 0x10a1d6748>"
            ]
          },
          "metadata": {
            "tags": []
          }
        }
      ]
    },
    {
      "metadata": {
        "id": "4CJBPjMOtIL6",
        "colab_type": "code",
        "colab": {}
      },
      "cell_type": "code",
      "source": [
        ""
      ],
      "execution_count": 0,
      "outputs": []
    }
  ]
}